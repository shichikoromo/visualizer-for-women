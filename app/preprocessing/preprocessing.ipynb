{
 "cells": [
  {
   "cell_type": "code",
   "execution_count": 15,
   "metadata": {},
   "outputs": [],
   "source": [
    "# import libraries\n",
    "import csv\n",
    "import pandas as pd\n",
    "import pickle\n",
    "import pycountry"
   ]
  },
  {
   "cell_type": "code",
   "execution_count": 16,
   "metadata": {},
   "outputs": [],
   "source": [
    "# path to csv\n",
    "#csv_path = '/Users/N/Projects/visualizer-for-women/resources/csv/life-expectancy-for-women-at-age-60.csv'\n",
    "#csv_path = '/Users/N/Projects/visualizer-for-women/resources/csv/AV_AN_WAGE_09102022132200302.csv'\n",
    "csv_path = '/Users/N/Projects/visualizer-for-women/resources/csv/DP_LIVE_10102022103831239.csv'"
   ]
  },
  {
   "cell_type": "code",
   "execution_count": 17,
   "metadata": {},
   "outputs": [],
   "source": [
    "# read csv as dataframe\n",
    "\n",
    "df = pd.read_csv(csv_path, header=0, delimiter=',', na_filter=False)"
   ]
  },
  {
   "cell_type": "code",
   "execution_count": null,
   "metadata": {},
   "outputs": [],
   "source": [
    "# create a new dataframe\n",
    "\n",
    "df_new = pd.concat([df['LOCATION'], df['Value']], axis=1)\n",
    "#df_new = pd.concat([df['Country'], df['Value']], axis=1)\n",
    "\n",
    "df_new"
   ]
  },
  {
   "cell_type": "code",
   "execution_count": null,
   "metadata": {},
   "outputs": [],
   "source": [
    "# Convert country codes to country name\n",
    "\n",
    "input_countries = df_new['LOCATION']\n",
    "\n",
    "countries = {}\n",
    "for country in pycountry.countries:\n",
    "    countries[country.alpha_3] = country.name\n",
    "\n",
    "country_names = [countries.get(country, 'Unknown country') for country in input_countries]\n",
    "\n",
    "print(country_names)\n",
    "\n",
    "df_new['LOCATION'] = country_names\n",
    "\n",
    "df_new"
   ]
  },
  {
   "cell_type": "code",
   "execution_count": 34,
   "metadata": {},
   "outputs": [
    {
     "name": "stdout",
     "output_type": "stream",
     "text": [
      "/Users/N/Projects/visualizer-for-women/resources/json/DP_LIVE_10102022103831239.json\n"
     ]
    }
   ],
   "source": [
    "# save dataframe as json\n",
    "json_path = csv_path.replace('csv', 'json')\n",
    "print(json_path)\n",
    "\n",
    "df_new.to_json(json_path, orient='values')"
   ]
  },
  {
   "cell_type": "code",
   "execution_count": 28,
   "metadata": {},
   "outputs": [
    {
     "name": "stdout",
     "output_type": "stream",
     "text": [
      "/Users/N/Projects/visualizer-for-women/resources/txt/life-expectancy-for-women-at-age-60.txt\n"
     ]
    }
   ],
   "source": [
    "# save dataframe as txt\n",
    "txt_path = csv_path.replace('csv', 'txt')\n",
    "print(txt_path)\n",
    "\n",
    "f = open(txt_path, 'wb')\n",
    "l= df_new.values.tolist()\n",
    "pickle.dump(l, f)"
   ]
  }
 ],
 "metadata": {
  "kernelspec": {
   "display_name": "Python 3.9.12 64-bit",
   "language": "python",
   "name": "python3"
  },
  "language_info": {
   "codemirror_mode": {
    "name": "ipython",
    "version": 3
   },
   "file_extension": ".py",
   "mimetype": "text/x-python",
   "name": "python",
   "nbconvert_exporter": "python",
   "pygments_lexer": "ipython3",
   "version": "3.9.12"
  },
  "orig_nbformat": 4,
  "vscode": {
   "interpreter": {
    "hash": "b0fa6594d8f4cbf19f97940f81e996739fb7646882a419484c72d19e05852a7e"
   }
  }
 },
 "nbformat": 4,
 "nbformat_minor": 2
}
